{
  "cells": [
    {
      "cell_type": "markdown",
      "metadata": {
        "id": "view-in-github",
        "colab_type": "text"
      },
      "source": [
        "<a href=\"https://colab.research.google.com/github/MPaul789/Image-Classifier-CNN/blob/main/Image_Classifier_CNN.ipynb\" target=\"_parent\"><img src=\"https://colab.research.google.com/assets/colab-badge.svg\" alt=\"Open In Colab\"/></a>"
      ]
    },
    {
      "cell_type": "code",
      "execution_count": 1,
      "metadata": {
        "id": "s5Bs9SfADJGz"
      },
      "outputs": [],
      "source": [
        "import tensorflow as tf\n",
        "from tensorflow.keras import datasets, layers, models\n",
        "import numpy as np\n",
        "import matplotlib.pyplot as plt"
      ]
    },
    {
      "cell_type": "code",
      "execution_count": 2,
      "metadata": {
        "colab": {
          "base_uri": "https://localhost:8080/"
        },
        "id": "acDWFqpfDmCJ",
        "outputId": "9bc9e581-6692-407b-c94c-dd4ab3b3b59a"
      },
      "outputs": [
        {
          "output_type": "stream",
          "name": "stdout",
          "text": [
            "Downloading data from https://www.cs.toronto.edu/~kriz/cifar-10-python.tar.gz\n",
            "170498071/170498071 [==============================] - 2s 0us/step\n"
          ]
        }
      ],
      "source": [
        "#Load the data\n",
        "(X_train, y_train) , (X_test, y_test) = datasets.cifar10.load_data()"
      ]
    },
    {
      "cell_type": "code",
      "execution_count": 3,
      "metadata": {
        "colab": {
          "base_uri": "https://localhost:8080/"
        },
        "id": "n4cE4oPmEtgm",
        "outputId": "5ec065f5-12b6-4267-a1c5-d441cf133bdf"
      },
      "outputs": [
        {
          "output_type": "execute_result",
          "data": {
            "text/plain": [
              "(50000, 32, 32, 3)"
            ]
          },
          "metadata": {},
          "execution_count": 3
        }
      ],
      "source": [
        "X_test.shape\n",
        "X_train.shape"
      ]
    },
    {
      "cell_type": "code",
      "execution_count": 4,
      "metadata": {
        "colab": {
          "base_uri": "https://localhost:8080/"
        },
        "id": "EvoCBm3iE_XO",
        "outputId": "b8b31d4a-91d9-4ad4-ebd8-2ed47013e987"
      },
      "outputs": [
        {
          "output_type": "execute_result",
          "data": {
            "text/plain": [
              "array([[6],\n",
              "       [9],\n",
              "       [9],\n",
              "       [4],\n",
              "       [1]], dtype=uint8)"
            ]
          },
          "metadata": {},
          "execution_count": 4
        }
      ],
      "source": [
        "y_train.shape\n",
        "y_train[:5]"
      ]
    },
    {
      "cell_type": "code",
      "execution_count": 5,
      "metadata": {
        "colab": {
          "base_uri": "https://localhost:8080/"
        },
        "id": "tcajkzVbFMY-",
        "outputId": "1b7ee204-e215-489d-a43b-d708e7404413"
      },
      "outputs": [
        {
          "output_type": "execute_result",
          "data": {
            "text/plain": [
              "array([6, 9, 9, 4, 1], dtype=uint8)"
            ]
          },
          "metadata": {},
          "execution_count": 5
        }
      ],
      "source": [
        "#Convert it into 1Darray\n",
        "y_train = y_train.reshape(-1)\n",
        "y_train[:5]"
      ]
    },
    {
      "cell_type": "code",
      "execution_count": 6,
      "metadata": {
        "colab": {
          "base_uri": "https://localhost:8080/"
        },
        "id": "_GPfh7BxFXKq",
        "outputId": "8eff4f7a-28b7-4f8d-acce-c1f809b14e18"
      },
      "outputs": [
        {
          "output_type": "execute_result",
          "data": {
            "text/plain": [
              "array([3, 8, 8, 0, 6], dtype=uint8)"
            ]
          },
          "metadata": {},
          "execution_count": 6
        }
      ],
      "source": [
        "y_test =y_test.reshape(-1)\n",
        "y_test[:5]"
      ]
    },
    {
      "cell_type": "code",
      "execution_count": 7,
      "metadata": {
        "id": "kYoa9nX0FXYh"
      },
      "outputs": [],
      "source": [
        "classes = ['airplane', 'automibile', 'bird', 'cat', 'deer', 'dog', 'frog', 'horse', 'ship', 'truck']"
      ]
    },
    {
      "cell_type": "code",
      "execution_count": 8,
      "metadata": {
        "id": "Tx9Zl8IgFXd_"
      },
      "outputs": [],
      "source": [
        "def plot_sample(X, y, index):\n",
        "  plt.figure(figsize=(15,2))\n",
        "  plt.imshow(X[index])\n",
        "  plt.xlabel(classes[y[index]])"
      ]
    },
    {
      "cell_type": "code",
      "execution_count": 9,
      "metadata": {
        "colab": {
          "base_uri": "https://localhost:8080/",
          "height": 237
        },
        "id": "C7bNfOWeFXgu",
        "outputId": "04d3f9bb-c96e-473e-a2e3-bd8bec3395d0"
      },
      "outputs": [
        {
          "output_type": "display_data",
          "data": {
            "text/plain": [
              "<Figure size 1500x200 with 1 Axes>"
            ],
            "image/png": "[encoded data removed]"
          },
          "metadata": {}
        }
      ],
      "source": [
        "plot_sample(X_train, y_train, 5)"
      ]
    },
    {
      "cell_type": "code",
      "execution_count": 10,
      "metadata": {
        "colab": {
          "base_uri": "https://localhost:8080/",
          "height": 237
        },
        "id": "DOmx-dL0FXjb",
        "outputId": "2f33627e-41ba-42e8-838d-52fc0c70f986"
      },
      "outputs": [
        {
          "output_type": "display_data",
          "data": {
            "text/plain": [
              "<Figure size 1500x200 with 1 Axes>"
            ],
            "image/png": "[encoded data removed]"
          },
          "metadata": {}
        }
      ],
      "source": [
        "plot_sample(X_train, y_train, 505)"
      ]
    },
    {
      "cell_type": "code",
      "execution_count": 11,
      "metadata": {
        "colab": {
          "base_uri": "https://localhost:8080/"
        },
        "id": "y7LFEXvRFXl5",
        "outputId": "ae89e01f-03b8-4983-be02-72223963c468"
      },
      "outputs": [
        {
          "output_type": "execute_result",
          "data": {
            "text/plain": [
              "array([[[[157.38039216, 111.56078431,  48.80784314],\n",
              "         [158.37647059, 110.56470588,  46.81568627],\n",
              "         [164.35294118, 115.54509804,  50.8       ],\n",
              "         ...,\n",
              "         [136.4627451 ,  94.62745098,  35.85882353],\n",
              "         [125.50588235,  90.64313725,  35.85882353],\n",
              "         [115.54509804,  84.66666667,  32.87058824]],\n",
              "\n",
              "        [[151.40392157, 111.56078431,  50.8       ],\n",
              "         [150.40784314, 109.56862745,  39.84313725],\n",
              "         [158.37647059, 113.55294118,  44.82352941],\n",
              "         ...,\n",
              "         [135.46666667,  94.62745098,  30.87843137],\n",
              "         [124.50980392,  90.64313725,  31.8745098 ],\n",
              "         [118.53333333,  87.65490196,  33.86666667]],\n",
              "\n",
              "        [[150.40784314, 109.56862745,  46.81568627],\n",
              "         [150.40784314, 108.57254902,  32.87058824],\n",
              "         [157.38039216, 110.56470588,  35.85882353],\n",
              "         ...,\n",
              "         [138.45490196,  97.61568627,  33.86666667],\n",
              "         [129.49019608,  94.62745098,  33.86666667],\n",
              "         [119.52941176,  88.65098039,  32.87058824]],\n",
              "\n",
              "        ...,\n",
              "\n",
              "        [[ 67.73333333, 123.51372549, 176.30588235],\n",
              "         [ 41.83529412,  99.60784314, 147.41960784],\n",
              "         [ 30.87843137,  87.65490196, 136.4627451 ],\n",
              "         ...,\n",
              "         [ 37.85098039,  96.61960784, 145.42745098],\n",
              "         [ 12.94901961,  63.74901961, 107.57647059],\n",
              "         [ 39.84313725,  84.66666667, 126.50196078]],\n",
              "\n",
              "        [[ 60.76078431, 115.54509804, 167.34117647],\n",
              "         [ 48.80784314, 101.6       , 147.41960784],\n",
              "         [ 34.8627451 ,  84.66666667, 131.48235294],\n",
              "         ...,\n",
              "         [ 25.89803922,  81.67843137, 129.49019608],\n",
              "         [ 28.88627451,  81.67843137, 125.50588235],\n",
              "         [ 19.92156863,  63.74901961, 106.58039216]],\n",
              "\n",
              "        [[ 53.78823529, 106.58039216, 159.37254902],\n",
              "         [ 55.78039216, 104.58823529, 148.41568627],\n",
              "         [ 44.82352941,  88.65098039, 131.48235294],\n",
              "         ...,\n",
              "         [ 23.90588235,  76.69803922, 123.51372549],\n",
              "         [ 33.86666667,  83.67058824, 128.49411765],\n",
              "         [ 20.91764706,  66.7372549 , 109.56862745]]],\n",
              "\n",
              "\n",
              "       [[[234.07843137, 234.07843137, 234.07843137],\n",
              "         [230.09411765, 230.09411765, 230.09411765],\n",
              "         [231.09019608, 231.09019608, 231.09019608],\n",
              "         ...,\n",
              "         [232.08627451, 232.08627451, 232.08627451],\n",
              "         [232.08627451, 232.08627451, 232.08627451],\n",
              "         [231.09019608, 231.09019608, 231.09019608]],\n",
              "\n",
              "        [[237.06666667, 237.06666667, 237.06666667],\n",
              "         [234.07843137, 234.07843137, 234.07843137],\n",
              "         [234.07843137, 234.07843137, 234.07843137],\n",
              "         ...,\n",
              "         [235.0745098 , 235.0745098 , 235.0745098 ],\n",
              "         [235.0745098 , 235.0745098 , 235.0745098 ],\n",
              "         [234.07843137, 234.07843137, 234.07843137]],\n",
              "\n",
              "        [[236.07058824, 236.07058824, 236.07058824],\n",
              "         [233.08235294, 233.08235294, 233.08235294],\n",
              "         [233.08235294, 233.08235294, 233.08235294],\n",
              "         ...,\n",
              "         [234.07843137, 234.07843137, 234.07843137],\n",
              "         [234.07843137, 234.07843137, 234.07843137],\n",
              "         [233.08235294, 233.08235294, 233.08235294]],\n",
              "\n",
              "        ...,\n",
              "\n",
              "        [[ 86.65882353,  98.61176471,  88.65098039],\n",
              "         [ 42.83137255,  50.8       ,  36.85490196],\n",
              "         [ 18.9254902 ,  22.90980392,  10.95686275],\n",
              "         ...,\n",
              "         [168.3372549 , 183.27843137, 178.29803922],\n",
              "         [181.28627451, 196.22745098, 192.24313725],\n",
              "         [187.2627451 , 201.20784314, 200.21176471]],\n",
              "\n",
              "        [[ 81.67843137,  95.62352941,  81.67843137],\n",
              "         [ 45.81960784,  56.77647059,  35.85882353],\n",
              "         [ 35.85882353,  43.82745098,  21.91372549],\n",
              "         ...,\n",
              "         [173.31764706, 188.25882353, 182.28235294],\n",
              "         [184.2745098 , 199.21568627, 195.23137255],\n",
              "         [186.26666667, 201.20784314, 199.21568627]],\n",
              "\n",
              "        [[ 84.66666667, 100.60392157,  82.6745098 ],\n",
              "         [ 61.75686275,  74.70588235,  47.81176471],\n",
              "         [ 57.77254902,  66.7372549 ,  37.85098039],\n",
              "         ...,\n",
              "         [167.34117647, 182.28235294, 177.30196078],\n",
              "         [179.29411765, 194.23529412, 190.25098039],\n",
              "         [185.27058824, 199.21568627, 198.21960784]]],\n",
              "\n",
              "\n",
              "       [[[157.38039216, 189.25490196, 221.12941176],\n",
              "         [157.38039216, 186.26666667, 217.14509804],\n",
              "         [138.45490196, 165.34901961, 193.23921569],\n",
              "         ...,\n",
              "         [227.10588235, 230.09411765, 233.08235294],\n",
              "         [236.07058824, 238.0627451 , 242.04705882],\n",
              "         [237.06666667, 240.05490196, 245.03529412]],\n",
              "\n",
              "        [[169.33333333, 199.21568627, 228.10196078],\n",
              "         [171.3254902 , 198.21960784, 225.11372549],\n",
              "         [150.40784314, 175.30980392, 200.21176471],\n",
              "         ...,\n",
              "         [231.09019608, 231.09019608, 235.0745098 ],\n",
              "         [245.03529412, 245.03529412, 249.01960784],\n",
              "         [245.03529412, 246.03137255, 250.01568627]],\n",
              "\n",
              "        [[173.31764706, 200.21176471, 224.11764706],\n",
              "         [175.30980392, 199.21568627, 221.12941176],\n",
              "         [156.38431373, 178.29803922, 198.21960784],\n",
              "         ...,\n",
              "         [229.09803922, 228.10196078, 231.09019608],\n",
              "         [249.01960784, 248.02352941, 250.01568627],\n",
              "         [244.03921569, 243.04313725, 246.03137255]],\n",
              "\n",
              "        ...,\n",
              "\n",
              "        [[ 30.87843137,  39.84313725,  44.82352941],\n",
              "         [ 29.88235294,  38.84705882,  43.82745098],\n",
              "         [ 25.89803922,  34.8627451 ,  39.84313725],\n",
              "         ...,\n",
              "         [ 36.85490196,  39.84313725,  45.81960784],\n",
              "         [  8.96470588,  12.94901961,  13.94509804],\n",
              "         [  3.98431373,   6.97254902,   4.98039216]],\n",
              "\n",
              "        [[ 22.90980392,  33.86666667,  38.84705882],\n",
              "         [ 26.89411765,  37.85098039,  42.83137255],\n",
              "         [ 24.90196078,  35.85882353,  40.83921569],\n",
              "         ...,\n",
              "         [ 18.9254902 ,  19.92156863,  23.90588235],\n",
              "         [  3.98431373,   5.97647059,   2.98823529],\n",
              "         [  4.98039216,   6.97254902,   2.98823529]],\n",
              "\n",
              "        [[ 27.89019608,  40.83921569,  46.81568627],\n",
              "         [ 29.88235294,  42.83137255,  49.80392157],\n",
              "         [ 31.8745098 ,  44.82352941,  51.79607843],\n",
              "         ...,\n",
              "         [  4.98039216,   5.97647059,   7.96862745],\n",
              "         [  3.98431373,   4.98039216,   2.98823529],\n",
              "         [  6.97254902,   7.96862745,   6.97254902]]],\n",
              "\n",
              "\n",
              "       ...,\n",
              "\n",
              "\n",
              "       [[[ 19.92156863,  14.94117647,  11.95294118],\n",
              "         [ 18.9254902 ,  13.94509804,  10.95686275],\n",
              "         [ 14.94117647,  13.94509804,  10.95686275],\n",
              "         ...,\n",
              "         [  9.96078431,   8.96470588,   6.97254902],\n",
              "         [ 11.95294118,  10.95686275,   8.96470588],\n",
              "         [ 12.94901961,  11.95294118,   9.96078431]],\n",
              "\n",
              "        [[ 20.91764706,  15.9372549 ,  12.94901961],\n",
              "         [ 19.92156863,  15.9372549 ,  12.94901961],\n",
              "         [ 17.92941176,  16.93333333,  11.95294118],\n",
              "         ...,\n",
              "         [  9.96078431,   8.96470588,   6.97254902],\n",
              "         [  9.96078431,   8.96470588,   6.97254902],\n",
              "         [ 11.95294118,  10.95686275,   8.96470588]],\n",
              "\n",
              "        [[ 20.91764706,  15.9372549 ,  12.94901961],\n",
              "         [ 20.91764706,  16.93333333,  11.95294118],\n",
              "         [ 19.92156863,  17.92941176,  10.95686275],\n",
              "         ...,\n",
              "         [ 11.95294118,  10.95686275,   8.96470588],\n",
              "         [ 11.95294118,  10.95686275,   8.96470588],\n",
              "         [ 12.94901961,  11.95294118,   9.96078431]],\n",
              "\n",
              "        ...,\n",
              "\n",
              "        [[ 32.87058824,  24.90196078,  12.94901961],\n",
              "         [ 33.86666667,  25.89803922,  14.94117647],\n",
              "         [ 33.86666667,  25.89803922,  14.94117647],\n",
              "         ...,\n",
              "         [ 27.89019608,  24.90196078,  51.79607843],\n",
              "         [ 28.88627451,  24.90196078,  57.77254902],\n",
              "         [ 22.90980392,  19.92156863,  41.83529412]],\n",
              "\n",
              "        [[ 32.87058824,  24.90196078,  13.94509804],\n",
              "         [ 33.86666667,  25.89803922,  14.94117647],\n",
              "         [ 33.86666667,  25.89803922,  14.94117647],\n",
              "         ...,\n",
              "         [ 26.89411765,  23.90588235,  51.79607843],\n",
              "         [ 26.89411765,  23.90588235,  55.78039216],\n",
              "         [ 24.90196078,  21.91372549,  46.81568627]],\n",
              "\n",
              "        [[ 30.87843137,  22.90980392,  11.95294118],\n",
              "         [ 31.8745098 ,  23.90588235,  12.94901961],\n",
              "         [ 32.87058824,  24.90196078,  13.94509804],\n",
              "         ...,\n",
              "         [ 23.90588235,  22.90980392,  49.80392157],\n",
              "         [ 25.89803922,  22.90980392,  52.79215686],\n",
              "         [ 24.90196078,  19.92156863,  46.81568627]]],\n",
              "\n",
              "\n",
              "       [[[ 24.90196078,  39.84313725,  11.95294118],\n",
              "         [ 14.94117647,  35.85882353,   2.98823529],\n",
              "         [ 22.90980392,  40.83921569,  17.92941176],\n",
              "         ...,\n",
              "         [ 60.76078431,  81.67843137,  77.69411765],\n",
              "         [ 91.63921569, 112.55686275, 111.56078431],\n",
              "         [ 74.70588235,  88.65098039,  91.63921569]],\n",
              "\n",
              "        [[ 11.95294118,  24.90196078,   5.97647059],\n",
              "         [ 19.92156863,  36.85490196,   6.97254902],\n",
              "         [ 23.90588235,  35.85882353,  14.94117647],\n",
              "         ...,\n",
              "         [114.54901961, 133.4745098 , 137.45882353],\n",
              "         [148.41568627, 167.34117647, 176.30588235],\n",
              "         [103.59215686, 116.54117647, 130.48627451]],\n",
              "\n",
              "        [[ 11.95294118,  24.90196078,  10.95686275],\n",
              "         [ 14.94117647,  28.88627451,   5.97647059],\n",
              "         [ 33.86666667,  39.84313725,  23.90588235],\n",
              "         ...,\n",
              "         [153.39607843, 171.3254902 , 181.28627451],\n",
              "         [156.38431373, 174.31372549, 191.24705882],\n",
              "         [115.54509804, 128.49411765, 150.40784314]],\n",
              "\n",
              "        ...,\n",
              "\n",
              "        [[ 99.60784314, 128.49411765,  80.68235294],\n",
              "         [102.59607843, 131.48235294,  83.67058824],\n",
              "         [103.59215686, 133.4745098 ,  85.6627451 ],\n",
              "         ...,\n",
              "         [ 96.61960784, 127.49803922,  83.67058824],\n",
              "         [ 97.61568627, 125.50588235,  83.67058824],\n",
              "         [ 90.64313725, 120.5254902 ,  78.69019608]],\n",
              "\n",
              "        [[102.59607843, 131.48235294,  82.6745098 ],\n",
              "         [103.59215686, 130.48627451,  82.6745098 ],\n",
              "         [106.58039216, 134.47058824,  86.65882353],\n",
              "         ...,\n",
              "         [100.60392157, 131.48235294,  86.65882353],\n",
              "         [ 98.61176471, 126.50196078,  83.67058824],\n",
              "         [ 91.63921569, 120.5254902 ,  78.69019608]],\n",
              "\n",
              "        [[ 94.62745098, 125.50588235,  77.69411765],\n",
              "         [ 94.62745098, 122.51764706,  75.70196078],\n",
              "         [100.60392157, 127.49803922,  80.68235294],\n",
              "         ...,\n",
              "         [ 92.63529412, 123.51372549,  79.68627451],\n",
              "         [ 94.62745098, 122.51764706,  80.68235294],\n",
              "         [ 91.63921569, 119.52941176,  79.68627451]]],\n",
              "\n",
              "\n",
              "       [[[ 72.71372549,  77.69411765,  74.70588235],\n",
              "         [ 97.61568627, 102.59607843, 112.55686275],\n",
              "         [ 98.61176471, 105.58431373, 113.55294118],\n",
              "         ...,\n",
              "         [134.47058824, 149.41176471, 151.40392157],\n",
              "         [134.47058824, 148.41568627, 153.39607843],\n",
              "         [202.20392157, 214.15686275, 222.1254902 ]],\n",
              "\n",
              "        [[ 68.72941176,  72.71372549,  69.7254902 ],\n",
              "         [ 83.67058824,  88.65098039,  96.61960784],\n",
              "         [ 67.73333333,  74.70588235,  80.68235294],\n",
              "         ...,\n",
              "         [ 84.66666667,  94.62745098,  88.65098039],\n",
              "         [ 70.72156863,  81.67843137,  79.68627451],\n",
              "         [119.52941176, 132.47843137, 134.47058824]],\n",
              "\n",
              "        [[ 68.72941176,  72.71372549,  69.7254902 ],\n",
              "         [ 89.64705882,  94.62745098,  99.60784314],\n",
              "         [ 61.75686275,  70.72156863,  73.70980392],\n",
              "         ...,\n",
              "         [ 73.70980392,  80.68235294,  69.7254902 ],\n",
              "         [ 52.79215686,  61.75686275,  53.78823529],\n",
              "         [ 61.75686275,  73.70980392,  68.72941176]],\n",
              "\n",
              "        ...,\n",
              "\n",
              "        [[122.51764706, 127.49803922,  95.62352941],\n",
              "         [131.48235294, 131.48235294, 101.6       ],\n",
              "         [128.49411765, 127.49803922,  99.60784314],\n",
              "         ...,\n",
              "         [107.57647059, 106.58039216,  87.65490196],\n",
              "         [ 61.75686275,  59.76470588,  54.78431373],\n",
              "         [ 26.89411765,  26.89411765,  27.89019608]],\n",
              "\n",
              "        [[114.54901961, 120.5254902 ,  90.64313725],\n",
              "         [122.51764706, 123.51372549,  94.62745098],\n",
              "         [128.49411765, 125.50588235,  98.61176471],\n",
              "         ...,\n",
              "         [114.54901961, 115.54509804,  93.63137255],\n",
              "         [ 65.74117647,  64.74509804,  58.76862745],\n",
              "         [ 26.89411765,  26.89411765,  26.89411765]],\n",
              "\n",
              "        [[115.54509804, 119.52941176,  89.64705882],\n",
              "         [120.5254902 , 121.52156863,  93.63137255],\n",
              "         [128.49411765, 127.49803922, 100.60392157],\n",
              "         ...,\n",
              "         [115.54509804, 114.54901961,  93.63137255],\n",
              "         [ 67.73333333,  64.74509804,  57.77254902],\n",
              "         [ 26.89411765,  25.89803922,  25.89803922]]]])"
            ]
          },
          "metadata": {},
          "execution_count": 11
        }
      ],
      "source": [
        "#Normalizing\n",
        "X_train = X_train/255.0\n",
        "X_test - X_test/255.0"
      ]
    },
    {
      "cell_type": "code",
      "execution_count": 12,
      "metadata": {
        "colab": {
          "base_uri": "https://localhost:8080/"
        },
        "id": "5q2qWr-uFXoR",
        "outputId": "9891a909-1451-4bd7-c335-46aeba14bede"
      },
      "outputs": [
        {
          "output_type": "stream",
          "name": "stdout",
          "text": [
            "Epoch 1/5\n",
            "1563/1563 [==============================] - 144s 91ms/step - loss: 1.8103 - accuracy: 0.3579\n",
            "Epoch 2/5\n",
            "1563/1563 [==============================] - 143s 91ms/step - loss: 1.6218 - accuracy: 0.4273\n",
            "Epoch 3/5\n",
            "1563/1563 [==============================] - 138s 88ms/step - loss: 1.5380 - accuracy: 0.4581\n",
            "Epoch 4/5\n",
            "1563/1563 [==============================] - 137s 88ms/step - loss: 1.4813 - accuracy: 0.4803\n",
            "Epoch 5/5\n",
            "1563/1563 [==============================] - 137s 88ms/step - loss: 1.4313 - accuracy: 0.4984\n"
          ]
        },
        {
          "output_type": "execute_result",
          "data": {
            "text/plain": [
              "<keras.src.callbacks.History at 0x7ecb8215bd90>"
            ]
          },
          "metadata": {},
          "execution_count": 12
        }
      ],
      "source": [
        "ann = models.Sequential([\n",
        "    layers.Flatten(input_shape = (32,32,3)),\n",
        "    layers.Dense(3000, activation = 'relu'),\n",
        "    layers.Dense(1000, activation = 'relu'),\n",
        "    layers.Dense(10, activation = 'softmax'),\n",
        "])\n",
        "ann.compile(optimizer= 'SGD', loss= 'sparse_categorical_crossentropy', metrics=['accuracy'])\n",
        "ann.fit(X_train, y_train, epochs=5)"
      ]
    },
    {
      "cell_type": "code",
      "execution_count": null,
      "metadata": {
        "id": "I_2RzS9-Jqnq"
      },
      "outputs": [],
      "source": []
    },
    {
      "cell_type": "code",
      "execution_count": 13,
      "metadata": {
        "colab": {
          "base_uri": "https://localhost:8080/"
        },
        "id": "SU7fB3omJhlS",
        "outputId": "bb805082-b83a-427f-9675-cae55136998a"
      },
      "outputs": [
        {
          "output_type": "stream",
          "name": "stdout",
          "text": [
            "313/313 [==============================] - 9s 28ms/step\n",
            "classification report: \n",
            "               precision    recall  f1-score   support\n",
            "\n",
            "           0       0.52      0.57      0.55      1000\n",
            "           1       0.44      0.77      0.56      1000\n",
            "           2       0.39      0.29      0.34      1000\n",
            "           3       0.32      0.41      0.36      1000\n",
            "           4       0.41      0.42      0.42      1000\n",
            "           5       0.46      0.25      0.33      1000\n",
            "           6       0.62      0.38      0.47      1000\n",
            "           7       0.63      0.47      0.54      1000\n",
            "           8       0.62      0.59      0.61      1000\n",
            "           9       0.48      0.58      0.52      1000\n",
            "\n",
            "    accuracy                           0.48     10000\n",
            "   macro avg       0.49      0.47      0.47     10000\n",
            "weighted avg       0.49      0.47      0.47     10000\n",
            "\n"
          ]
        }
      ],
      "source": [
        "from sklearn.metrics import confusion_matrix, classification_report\n",
        "import numpy as np\n",
        "y_pred = ann.predict(X_test)\n",
        "y_pred_classes = [np.argmax(element) for element in y_pred]\n",
        "\n",
        "print('classification report: \\n', classification_report(y_test, y_pred_classes))"
      ]
    },
    {
      "cell_type": "code",
      "execution_count": null,
      "metadata": {
        "id": "V0YI1AikHnh0"
      },
      "outputs": [],
      "source": [
        "import seaborn as sns"
      ]
    },
    {
      "cell_type": "code",
      "execution_count": null,
      "metadata": {
        "id": "psdHPPyHHnxL"
      },
      "outputs": [],
      "source": [
        "plt.figure(figsize=(14,7))\n",
        "sns.heatmap(y_pred, annot = True)\n",
        "plt.ylabel(\"Truth\")\n",
        "plt.xlabel('Prediction')\n",
        "plt.title('Confusion matrix')\n",
        "plt.show"
      ]
    },
    {
      "cell_type": "code",
      "execution_count": 14,
      "metadata": {
        "id": "xVeinufSHoA4"
      },
      "outputs": [],
      "source": [
        "#cnn model to train the images\n",
        "\n",
        "cnn = models.Sequential([\n",
        "    layers.Conv2D(filters=32, kernel_size=(3,3), activation ='relu', input_shape=(32,32,3)),\n",
        "    layers.MaxPooling2D((2,2)),\n",
        "\n",
        "    layers.Conv2D(filters=64, kernel_size=(3,3), activation ='relu'),\n",
        "    layers.MaxPooling2D((2,2)),\n",
        "\n",
        "    layers.Flatten(),\n",
        "    layers.Dense(64, activation='relu'),\n",
        "    layers.Dense(10, activation='softmax')\n",
        "\n",
        "])"
      ]
    },
    {
      "cell_type": "code",
      "execution_count": 15,
      "metadata": {
        "id": "RxKPdK3RFXrA"
      },
      "outputs": [],
      "source": [
        "cnn.compile(optimizer='adam', loss= 'sparse_categorical_crossentropy', metrics=['accuracy'])"
      ]
    },
    {
      "cell_type": "code",
      "execution_count": 18,
      "metadata": {
        "colab": {
          "base_uri": "https://localhost:8080/"
        },
        "id": "0fnDhlRsFXuf",
        "outputId": "543064d6-c543-42b9-8018-aae57f0db270"
      },
      "outputs": [
        {
          "output_type": "stream",
          "name": "stdout",
          "text": [
            "Epoch 1/10\n",
            "1563/1563 [==============================] - 60s 38ms/step - loss: 0.5719 - accuracy: 0.7989\n",
            "Epoch 2/10\n",
            "1563/1563 [==============================] - 63s 40ms/step - loss: 0.5375 - accuracy: 0.8104\n",
            "Epoch 3/10\n",
            "1563/1563 [==============================] - 58s 37ms/step - loss: 0.5065 - accuracy: 0.8212\n",
            "Epoch 4/10\n",
            "1563/1563 [==============================] - 59s 38ms/step - loss: 0.4795 - accuracy: 0.8304\n",
            "Epoch 5/10\n",
            "1563/1563 [==============================] - 60s 38ms/step - loss: 0.4497 - accuracy: 0.8404\n",
            "Epoch 6/10\n",
            "1563/1563 [==============================] - 59s 38ms/step - loss: 0.4220 - accuracy: 0.8504\n",
            "Epoch 7/10\n",
            "1563/1563 [==============================] - 59s 38ms/step - loss: 0.4013 - accuracy: 0.8565\n",
            "Epoch 8/10\n",
            "1563/1563 [==============================] - 59s 38ms/step - loss: 0.3752 - accuracy: 0.8665\n",
            "Epoch 9/10\n",
            "1563/1563 [==============================] - 59s 38ms/step - loss: 0.3519 - accuracy: 0.8735\n",
            "Epoch 10/10\n",
            "1563/1563 [==============================] - 60s 38ms/step - loss: 0.3291 - accuracy: 0.8827\n"
          ]
        },
        {
          "output_type": "execute_result",
          "data": {
            "text/plain": [
              "<keras.src.callbacks.History at 0x7ecb7b14f6a0>"
            ]
          },
          "metadata": {},
          "execution_count": 18
        }
      ],
      "source": [
        "cnn.fit(X_train, y_train, epochs=10)"
      ]
    },
    {
      "cell_type": "code",
      "execution_count": null,
      "metadata": {
        "id": "anbS7kpnPQTK"
      },
      "outputs": [],
      "source": [
        "cnn.evaluate(X_test, y_test)"
      ]
    },
    {
      "cell_type": "code",
      "execution_count": 19,
      "metadata": {
        "id": "J51GorSSPQQE",
        "colab": {
          "base_uri": "https://localhost:8080/"
        },
        "outputId": "2ad74b60-7646-4f6d-83a5-3c5e405b8daf"
      },
      "outputs": [
        {
          "output_type": "stream",
          "name": "stdout",
          "text": [
            "313/313 [==============================] - 3s 11ms/step\n"
          ]
        }
      ],
      "source": [
        "y_pred = cnn.predict(X_test)"
      ]
    },
    {
      "cell_type": "code",
      "execution_count": 20,
      "metadata": {
        "id": "cLM3AqCXPZ8m",
        "colab": {
          "base_uri": "https://localhost:8080/"
        },
        "outputId": "be857544-056b-4bae-8d92-e533fd5ab128"
      },
      "outputs": [
        {
          "output_type": "execute_result",
          "data": {
            "text/plain": [
              "[8, 8, 9, 0, 5]"
            ]
          },
          "metadata": {},
          "execution_count": 20
        }
      ],
      "source": [
        "y_classes = [np.argmax(element) for element in y_pred]\n",
        "y_classes[:5]"
      ]
    },
    {
      "cell_type": "code",
      "execution_count": 21,
      "metadata": {
        "id": "lwqZjxLyPQNJ",
        "colab": {
          "base_uri": "https://localhost:8080/"
        },
        "outputId": "86830b38-d05e-45c7-bf94-ec6dbe22a834"
      },
      "outputs": [
        {
          "output_type": "execute_result",
          "data": {
            "text/plain": [
              "array([3, 8, 8, 0, 6], dtype=uint8)"
            ]
          },
          "metadata": {},
          "execution_count": 21
        }
      ],
      "source": [
        "y_test[:5]"
      ]
    },
    {
      "cell_type": "code",
      "execution_count": 32,
      "metadata": {
        "id": "5_DKgyrHPQEx",
        "colab": {
          "base_uri": "https://localhost:8080/",
          "height": 237
        },
        "outputId": "b0938cd8-befd-4b47-c97a-b056e150f4bf"
      },
      "outputs": [
        {
          "output_type": "display_data",
          "data": {
            "text/plain": [
              "<Figure size 1500x200 with 1 Axes>"
            ],
            "image/png": "[encoded data removed]"
          },
          "metadata": {}
        }
      ],
      "source": [
        "plot_sample(X_test, y_test, 20)"
      ]
    },
    {
      "cell_type": "code",
      "execution_count": 33,
      "metadata": {
        "id": "6KEJeWRl1OeP",
        "colab": {
          "base_uri": "https://localhost:8080/",
          "height": 35
        },
        "outputId": "602d9833-fe73-4d3b-9d46-5ea2a0eb7eb7"
      },
      "outputs": [
        {
          "output_type": "execute_result",
          "data": {
            "text/plain": [
              "'horse'"
            ],
            "application/vnd.google.colaboratory.intrinsic+json": {
              "type": "string"
            }
          },
          "metadata": {},
          "execution_count": 33
        }
      ],
      "source": [
        "classes[y_classes[20]]"
      ]
    },
    {
      "cell_type": "code",
      "source": [
        "cnn.save(\"model.h5\")"
      ],
      "metadata": {
        "id": "mamR0T3I6hk2"
      },
      "execution_count": null,
      "outputs": []
    }
  ],
  "metadata": {
    "colab": {
      "provenance": [],
      "authorship_tag": "ABX9TyMJ+dcqVhDaJNvVZYnGqyjF",
      "include_colab_link": true
    },
    "kernelspec": {
      "display_name": "Python 3",
      "name": "python3"
    },
    "language_info": {
      "name": "python"
    }
  },
  "nbformat": 4,
  "nbformat_minor": 0
}